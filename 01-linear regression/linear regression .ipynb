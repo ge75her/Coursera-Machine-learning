{
 "cells": [
  {
   "cell_type": "code",
   "execution_count": 1,
   "id": "0da49bc0",
   "metadata": {},
   "outputs": [],
   "source": [
    "import numpy as np\n",
    "import pandas as pd\n",
    "import matplotlib.pyplot as plt"
   ]
  },
  {
   "cell_type": "markdown",
   "id": "ba7b8d4f",
   "metadata": {},
   "source": [
    "# single variable"
   ]
  },
  {
   "cell_type": "code",
   "execution_count": 2,
   "id": "0a8a3057",
   "metadata": {},
   "outputs": [
    {
     "data": {
      "text/html": [
       "<div>\n",
       "<style scoped>\n",
       "    .dataframe tbody tr th:only-of-type {\n",
       "        vertical-align: middle;\n",
       "    }\n",
       "\n",
       "    .dataframe tbody tr th {\n",
       "        vertical-align: top;\n",
       "    }\n",
       "\n",
       "    .dataframe thead th {\n",
       "        text-align: right;\n",
       "    }\n",
       "</style>\n",
       "<table border=\"1\" class=\"dataframe\">\n",
       "  <thead>\n",
       "    <tr style=\"text-align: right;\">\n",
       "      <th></th>\n",
       "      <th>population</th>\n",
       "      <th>profit</th>\n",
       "    </tr>\n",
       "  </thead>\n",
       "  <tbody>\n",
       "    <tr>\n",
       "      <th>0</th>\n",
       "      <td>6.1101</td>\n",
       "      <td>17.5920</td>\n",
       "    </tr>\n",
       "    <tr>\n",
       "      <th>1</th>\n",
       "      <td>5.5277</td>\n",
       "      <td>9.1302</td>\n",
       "    </tr>\n",
       "    <tr>\n",
       "      <th>2</th>\n",
       "      <td>8.5186</td>\n",
       "      <td>13.6620</td>\n",
       "    </tr>\n",
       "    <tr>\n",
       "      <th>3</th>\n",
       "      <td>7.0032</td>\n",
       "      <td>11.8540</td>\n",
       "    </tr>\n",
       "    <tr>\n",
       "      <th>4</th>\n",
       "      <td>5.8598</td>\n",
       "      <td>6.8233</td>\n",
       "    </tr>\n",
       "  </tbody>\n",
       "</table>\n",
       "</div>"
      ],
      "text/plain": [
       "   population   profit\n",
       "0      6.1101  17.5920\n",
       "1      5.5277   9.1302\n",
       "2      8.5186  13.6620\n",
       "3      7.0032  11.8540\n",
       "4      5.8598   6.8233"
      ]
     },
     "execution_count": 2,
     "metadata": {},
     "output_type": "execute_result"
    }
   ],
   "source": [
    "file=pd.read_csv('ex1data1.txt',names=['population','profit'])\n",
    "file.head()"
   ]
  },
  {
   "cell_type": "code",
   "execution_count": 3,
   "id": "1de50202",
   "metadata": {},
   "outputs": [
    {
     "data": {
      "text/html": [
       "<div>\n",
       "<style scoped>\n",
       "    .dataframe tbody tr th:only-of-type {\n",
       "        vertical-align: middle;\n",
       "    }\n",
       "\n",
       "    .dataframe tbody tr th {\n",
       "        vertical-align: top;\n",
       "    }\n",
       "\n",
       "    .dataframe thead th {\n",
       "        text-align: right;\n",
       "    }\n",
       "</style>\n",
       "<table border=\"1\" class=\"dataframe\">\n",
       "  <thead>\n",
       "    <tr style=\"text-align: right;\">\n",
       "      <th></th>\n",
       "      <th>x1</th>\n",
       "      <th>population</th>\n",
       "      <th>profit</th>\n",
       "    </tr>\n",
       "  </thead>\n",
       "  <tbody>\n",
       "    <tr>\n",
       "      <th>0</th>\n",
       "      <td>1</td>\n",
       "      <td>6.1101</td>\n",
       "      <td>17.5920</td>\n",
       "    </tr>\n",
       "    <tr>\n",
       "      <th>1</th>\n",
       "      <td>1</td>\n",
       "      <td>5.5277</td>\n",
       "      <td>9.1302</td>\n",
       "    </tr>\n",
       "    <tr>\n",
       "      <th>2</th>\n",
       "      <td>1</td>\n",
       "      <td>8.5186</td>\n",
       "      <td>13.6620</td>\n",
       "    </tr>\n",
       "    <tr>\n",
       "      <th>3</th>\n",
       "      <td>1</td>\n",
       "      <td>7.0032</td>\n",
       "      <td>11.8540</td>\n",
       "    </tr>\n",
       "    <tr>\n",
       "      <th>4</th>\n",
       "      <td>1</td>\n",
       "      <td>5.8598</td>\n",
       "      <td>6.8233</td>\n",
       "    </tr>\n",
       "  </tbody>\n",
       "</table>\n",
       "</div>"
      ],
      "text/plain": [
       "   x1  population   profit\n",
       "0   1      6.1101  17.5920\n",
       "1   1      5.5277   9.1302\n",
       "2   1      8.5186  13.6620\n",
       "3   1      7.0032  11.8540\n",
       "4   1      5.8598   6.8233"
      ]
     },
     "execution_count": 3,
     "metadata": {},
     "output_type": "execute_result"
    }
   ],
   "source": [
    "file.insert(0,'x1',1)\n",
    "file.head()"
   ]
  },
  {
   "cell_type": "code",
   "execution_count": 4,
   "id": "c9aee47b",
   "metadata": {},
   "outputs": [],
   "source": [
    "X=file.iloc[:,0:2]\n",
    "X.shape\n",
    "y=file.iloc[:,-1]\n",
    "X=X.values\n",
    "y=y.values"
   ]
  },
  {
   "cell_type": "code",
   "execution_count": 5,
   "id": "6a8b68a3",
   "metadata": {},
   "outputs": [],
   "source": [
    "y=y.reshape((97,1))"
   ]
  },
  {
   "cell_type": "markdown",
   "id": "a70323d4",
   "metadata": {},
   "source": [
    "### cost function \n"
   ]
  },
  {
   "cell_type": "code",
   "execution_count": 6,
   "id": "ab87a45c",
   "metadata": {},
   "outputs": [],
   "source": [
    "alpha=0.01\n",
    "def costFun(X,y,theta):\n",
    "    inner=X@theta-y\n",
    "    inner=np.power(inner,2)\n",
    "    cost=np.sum(inner)/(2*len(y))\n",
    "    return cost"
   ]
  },
  {
   "cell_type": "markdown",
   "id": "6c1275c2",
   "metadata": {},
   "source": [
    "### Gradient Descent"
   ]
  },
  {
   "cell_type": "code",
   "execution_count": 7,
   "id": "3d7564b4",
   "metadata": {},
   "outputs": [
    {
     "name": "stdout",
     "output_type": "stream",
     "text": [
      "32.072733877455676\n"
     ]
    }
   ],
   "source": [
    "#initialization\n",
    "theta=np.zeros((2,1))\n",
    "cost=costFun(X,y,theta)\n",
    "print(cost)"
   ]
  },
  {
   "cell_type": "code",
   "execution_count": 8,
   "id": "14826bf3",
   "metadata": {},
   "outputs": [],
   "source": [
    "def gradi(X,y,theta,alpha,iters):\n",
    "    costs=[]\n",
    "    for i in range(iters):\n",
    "        theta=theta-alpha*X.T@(X@theta-y)/len(y)\n",
    "        cost=costFun(X,y,theta)\n",
    "        costs.append(cost)\n",
    "        if i%100==0:\n",
    "            print('iteration:',i,'cost:',cost)\n",
    "    return theta,costs"
   ]
  },
  {
   "cell_type": "code",
   "execution_count": 9,
   "id": "b56257a4",
   "metadata": {},
   "outputs": [
    {
     "name": "stdout",
     "output_type": "stream",
     "text": [
      "iteration: 0 cost: 16.769642371667462\n",
      "iteration: 100 cost: 5.170668092303259\n",
      "iteration: 200 cost: 4.813840215803055\n",
      "iteration: 300 cost: 4.640559602034057\n",
      "iteration: 400 cost: 4.556412109403548\n",
      "iteration: 500 cost: 4.5155489085988645\n",
      "iteration: 600 cost: 4.495705166048674\n",
      "iteration: 700 cost: 4.486068766778817\n",
      "iteration: 800 cost: 4.481389196347322\n",
      "iteration: 900 cost: 4.479116731414092\n"
     ]
    }
   ],
   "source": [
    "theta,costs=gradi(X,y,theta,0.02,1000)"
   ]
  },
  {
   "cell_type": "code",
   "execution_count": 11,
   "id": "3ee6f1c5",
   "metadata": {},
   "outputs": [
    {
     "data": {
      "image/png": "[encoded data removed]",
      "text/plain": [
       "<Figure size 432x288 with 1 Axes>"
      ]
     },
     "metadata": {
      "needs_background": "light"
     },
     "output_type": "display_data"
    }
   ],
   "source": [
    "fig1=plt.plot(figsize=(7,7))\n",
    "\n",
    "plt.plot(range(1000),costs)\n",
    "plt.xlabel('iterations')\n",
    "plt.ylabel('total cost')\n",
    "plt.title('loss')\n",
    "plt.show()"
   ]
  },
  {
   "cell_type": "code",
   "execution_count": 12,
   "id": "0d38b60f",
   "metadata": {},
   "outputs": [
    {
     "data": {
      "image/png": "[encoded data removed]",
      "text/plain": [
       "<Figure size 432x288 with 1 Axes>"
      ]
     },
     "metadata": {
      "needs_background": "light"
     },
     "output_type": "display_data"
    }
   ],
   "source": [
    "fig2=plt.plot(figsize=(7,7))\n",
    "x=np.linspace(y.min(),y.max(),1000)\n",
    "y_=theta[0,0]+theta[1,0]*x\n",
    "plt.scatter(X[:,1],y,label='real',c='r')\n",
    "plt.plot(x,y_,label='predict')\n",
    "plt.legend()\n",
    "plt.xlabel('population')\n",
    "plt.ylabel('profit')\n",
    "plt.show()"
   ]
  },
  {
   "cell_type": "markdown",
   "id": "a3a39348",
   "metadata": {},
   "source": [
    "# multiple variable"
   ]
  },
  {
   "cell_type": "code",
   "execution_count": 1,
   "id": "9cbb4b63",
   "metadata": {},
   "outputs": [],
   "source": [
    "import numpy as np\n",
    "import pandas as pd\n",
    "import matplotlib.pyplot as plt"
   ]
  },
  {
   "cell_type": "code",
   "execution_count": 7,
   "id": "c731ace6",
   "metadata": {},
   "outputs": [
    {
     "data": {
      "text/html": [
       "<div>\n",
       "<style scoped>\n",
       "    .dataframe tbody tr th:only-of-type {\n",
       "        vertical-align: middle;\n",
       "    }\n",
       "\n",
       "    .dataframe tbody tr th {\n",
       "        vertical-align: top;\n",
       "    }\n",
       "\n",
       "    .dataframe thead th {\n",
       "        text-align: right;\n",
       "    }\n",
       "</style>\n",
       "<table border=\"1\" class=\"dataframe\">\n",
       "  <thead>\n",
       "    <tr style=\"text-align: right;\">\n",
       "      <th></th>\n",
       "      <th>size</th>\n",
       "      <th>num of bed</th>\n",
       "      <th>price</th>\n",
       "    </tr>\n",
       "  </thead>\n",
       "  <tbody>\n",
       "    <tr>\n",
       "      <th>0</th>\n",
       "      <td>2104</td>\n",
       "      <td>3</td>\n",
       "      <td>399900</td>\n",
       "    </tr>\n",
       "    <tr>\n",
       "      <th>1</th>\n",
       "      <td>1600</td>\n",
       "      <td>3</td>\n",
       "      <td>329900</td>\n",
       "    </tr>\n",
       "    <tr>\n",
       "      <th>2</th>\n",
       "      <td>2400</td>\n",
       "      <td>3</td>\n",
       "      <td>369000</td>\n",
       "    </tr>\n",
       "    <tr>\n",
       "      <th>3</th>\n",
       "      <td>1416</td>\n",
       "      <td>2</td>\n",
       "      <td>232000</td>\n",
       "    </tr>\n",
       "    <tr>\n",
       "      <th>4</th>\n",
       "      <td>3000</td>\n",
       "      <td>4</td>\n",
       "      <td>539900</td>\n",
       "    </tr>\n",
       "  </tbody>\n",
       "</table>\n",
       "</div>"
      ],
      "text/plain": [
       "   size  num of bed   price\n",
       "0  2104           3  399900\n",
       "1  1600           3  329900\n",
       "2  2400           3  369000\n",
       "3  1416           2  232000\n",
       "4  3000           4  539900"
      ]
     },
     "execution_count": 7,
     "metadata": {},
     "output_type": "execute_result"
    }
   ],
   "source": [
    "data=pd.read_csv('ex1data2.txt',names=['size','num of bed','price'])\n",
    "data.head()"
   ]
  },
  {
   "cell_type": "markdown",
   "id": "63f55bf0",
   "metadata": {},
   "source": [
    "### normalization!!!"
   ]
  },
  {
   "cell_type": "code",
   "execution_count": 8,
   "id": "9374db36",
   "metadata": {},
   "outputs": [],
   "source": [
    "def norm(X):\n",
    "    x_norm=(X-X.mean())/X.std()\n",
    "    return x_norm"
   ]
  },
  {
   "cell_type": "code",
   "execution_count": 9,
   "id": "c4734b1d",
   "metadata": {},
   "outputs": [],
   "source": [
    "data=norm(data)"
   ]
  },
  {
   "cell_type": "code",
   "execution_count": 10,
   "id": "dd4823c3",
   "metadata": {},
   "outputs": [
    {
     "data": {
      "text/html": [
       "<div>\n",
       "<style scoped>\n",
       "    .dataframe tbody tr th:only-of-type {\n",
       "        vertical-align: middle;\n",
       "    }\n",
       "\n",
       "    .dataframe tbody tr th {\n",
       "        vertical-align: top;\n",
       "    }\n",
       "\n",
       "    .dataframe thead th {\n",
       "        text-align: right;\n",
       "    }\n",
       "</style>\n",
       "<table border=\"1\" class=\"dataframe\">\n",
       "  <thead>\n",
       "    <tr style=\"text-align: right;\">\n",
       "      <th></th>\n",
       "      <th>x1</th>\n",
       "      <th>size</th>\n",
       "      <th>num of bed</th>\n",
       "      <th>price</th>\n",
       "    </tr>\n",
       "  </thead>\n",
       "  <tbody>\n",
       "    <tr>\n",
       "      <th>0</th>\n",
       "      <td>1</td>\n",
       "      <td>0.130010</td>\n",
       "      <td>-0.223675</td>\n",
       "      <td>0.475747</td>\n",
       "    </tr>\n",
       "    <tr>\n",
       "      <th>1</th>\n",
       "      <td>1</td>\n",
       "      <td>-0.504190</td>\n",
       "      <td>-0.223675</td>\n",
       "      <td>-0.084074</td>\n",
       "    </tr>\n",
       "    <tr>\n",
       "      <th>2</th>\n",
       "      <td>1</td>\n",
       "      <td>0.502476</td>\n",
       "      <td>-0.223675</td>\n",
       "      <td>0.228626</td>\n",
       "    </tr>\n",
       "    <tr>\n",
       "      <th>3</th>\n",
       "      <td>1</td>\n",
       "      <td>-0.735723</td>\n",
       "      <td>-1.537767</td>\n",
       "      <td>-0.867025</td>\n",
       "    </tr>\n",
       "    <tr>\n",
       "      <th>4</th>\n",
       "      <td>1</td>\n",
       "      <td>1.257476</td>\n",
       "      <td>1.090417</td>\n",
       "      <td>1.595389</td>\n",
       "    </tr>\n",
       "  </tbody>\n",
       "</table>\n",
       "</div>"
      ],
      "text/plain": [
       "   x1      size  num of bed     price\n",
       "0   1  0.130010   -0.223675  0.475747\n",
       "1   1 -0.504190   -0.223675 -0.084074\n",
       "2   1  0.502476   -0.223675  0.228626\n",
       "3   1 -0.735723   -1.537767 -0.867025\n",
       "4   1  1.257476    1.090417  1.595389"
      ]
     },
     "execution_count": 10,
     "metadata": {},
     "output_type": "execute_result"
    }
   ],
   "source": [
    "data.insert(0,'x1',1)\n",
    "data.head()"
   ]
  },
  {
   "cell_type": "code",
   "execution_count": 11,
   "id": "cb6b1317",
   "metadata": {},
   "outputs": [
    {
     "data": {
      "text/plain": [
       "(47,)"
      ]
     },
     "execution_count": 11,
     "metadata": {},
     "output_type": "execute_result"
    }
   ],
   "source": [
    "X=data.iloc[:,0:-1]\n",
    "y=data.iloc[:,-1]\n",
    "y.shape"
   ]
  },
  {
   "cell_type": "code",
   "execution_count": 12,
   "id": "f7230347",
   "metadata": {},
   "outputs": [],
   "source": [
    "X=X.values\n",
    "y=y.values"
   ]
  },
  {
   "cell_type": "code",
   "execution_count": 13,
   "id": "4901031a",
   "metadata": {},
   "outputs": [],
   "source": [
    "y=y.reshape((47,1))"
   ]
  },
  {
   "cell_type": "markdown",
   "id": "c15b5161",
   "metadata": {},
   "source": [
    "### cost function"
   ]
  },
  {
   "cell_type": "code",
   "execution_count": 14,
   "id": "2a1bce6c",
   "metadata": {},
   "outputs": [],
   "source": [
    "def costFun(X,y,theta):\n",
    "    inner=np.power(X@theta-y,2)\n",
    "    return np.sum(inner)/(2*len(y))"
   ]
  },
  {
   "cell_type": "code",
   "execution_count": 15,
   "id": "74271519",
   "metadata": {},
   "outputs": [],
   "source": [
    "theta=np.zeros((3,1))\n",
    "cost=costFun(X,y,theta)"
   ]
  },
  {
   "cell_type": "code",
   "execution_count": 19,
   "id": "983adb98",
   "metadata": {},
   "outputs": [],
   "source": [
    "def gradi(X,y,theta,alpha,iters,iprint):\n",
    "    costs=[]\n",
    "    for i in range(iters):\n",
    "        theta=theta-alpha*X.T@(X@theta-y)/len(y)\n",
    "        cost=costFun(X,y,theta)\n",
    "        costs.append(cost)\n",
    "        if i%100==0:\n",
    "            if iprint==True:\n",
    "                print('iteration:',i,'cost',cost)\n",
    "    return theta,costs"
   ]
  },
  {
   "cell_type": "code",
   "execution_count": 17,
   "id": "26d20adc",
   "metadata": {},
   "outputs": [
    {
     "name": "stdout",
     "output_type": "stream",
     "text": [
      "iteration: 0 cost 0.47186307832380486\n",
      "iteration: 100 cost 0.14769069097087112\n",
      "iteration: 200 cost 0.13361260686272108\n",
      "iteration: 300 cost 0.13120498443304696\n",
      "iteration: 400 cost 0.1307783896412616\n",
      "iteration: 500 cost 0.13070277225055463\n",
      "iteration: 600 cost 0.1306893683909453\n",
      "iteration: 700 cost 0.13068699243667858\n",
      "iteration: 800 cost 0.13068657127748678\n",
      "iteration: 900 cost 0.1306864966232447\n"
     ]
    }
   ],
   "source": [
    "theta,costs=gradi(X,y,theta,0.02,1000)"
   ]
  },
  {
   "cell_type": "code",
   "execution_count": 24,
   "id": "50907537",
   "metadata": {},
   "outputs": [
    {
     "data": {
      "image/png": "[encoded data removed]",
      "text/plain": [
       "<Figure size 432x288 with 1 Axes>"
      ]
     },
     "metadata": {
      "needs_background": "light"
     },
     "output_type": "display_data"
    }
   ],
   "source": [
    "fig3=plt.plot(figsize=(10,10))\n",
    "alpha=[0.0003,0.003,0.03,0.0001,0.001,0.01]\n",
    "theta_=np.zeros((3,1))\n",
    "for i in alpha:\n",
    "    theta,costs=gradi(X,y,theta_,i,1000,False)\n",
    "    plt.plot(range(1000),costs,label='loss in alpha={}'.format(i))\n",
    "plt.legend()\n",
    "plt.xlabel('iteration')\n",
    "plt.ylabel('loss')\n",
    "plt.show()"
   ]
  },
  {
   "cell_type": "code",
   "execution_count": null,
   "id": "f14cc25a",
   "metadata": {},
   "outputs": [],
   "source": []
  }
 ],
 "metadata": {
  "kernelspec": {
   "display_name": "Python 3",
   "language": "python",
   "name": "python3"
  },
  "language_info": {
   "codemirror_mode": {
    "name": "ipython",
    "version": 3
   },
   "file_extension": ".py",
   "mimetype": "text/x-python",
   "name": "python",
   "nbconvert_exporter": "python",
   "pygments_lexer": "ipython3",
   "version": "3.8.8"
  }
 },
 "nbformat": 4,
 "nbformat_minor": 5
}
