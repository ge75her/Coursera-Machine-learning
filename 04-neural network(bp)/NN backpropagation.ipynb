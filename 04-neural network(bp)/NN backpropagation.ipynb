{
 "cells": [
  {
   "cell_type": "markdown",
   "id": "9806e269",
   "metadata": {},
   "source": [
    "# train to get the best weighting matrix"
   ]
  },
  {
   "cell_type": "code",
   "execution_count": 1,
   "id": "447b149c",
   "metadata": {},
   "outputs": [],
   "source": [
    "import numpy as np\n",
    "import scipy.io as sio\n",
    "from scipy.optimize import minimize"
   ]
  },
  {
   "cell_type": "code",
   "execution_count": 2,
   "id": "baa21375",
   "metadata": {},
   "outputs": [
    {
     "data": {
      "text/plain": [
       "dict_keys(['__header__', '__version__', '__globals__', 'X', 'y'])"
      ]
     },
     "execution_count": 2,
     "metadata": {},
     "output_type": "execute_result"
    }
   ],
   "source": [
    "data=sio.loadmat('ex4data1.mat')\n",
    "data.keys()"
   ]
  },
  {
   "cell_type": "code",
   "execution_count": 3,
   "id": "5281bda7",
   "metadata": {},
   "outputs": [],
   "source": [
    "X=data['X']\n",
    "y=data['y']"
   ]
  },
  {
   "cell_type": "code",
   "execution_count": 4,
   "id": "ccba0bf2",
   "metadata": {},
   "outputs": [],
   "source": [
    "X=np.insert(X,0,1,1)\n",
    "y=y.flatten()"
   ]
  },
  {
   "cell_type": "code",
   "execution_count": 5,
   "id": "f4a04886",
   "metadata": {},
   "outputs": [
    {
     "name": "stdout",
     "output_type": "stream",
     "text": [
      "(5000, 401) (5000,)\n"
     ]
    }
   ],
   "source": [
    "print(X.shape,y.shape)"
   ]
  },
  {
   "cell_type": "markdown",
   "id": "0649587b",
   "metadata": {},
   "source": [
    "# y one-hot encoder\n",
    "\n",
    "why using one-hot encode?\n",
    "\n",
    "cost function is th cost function in logistic regression, only has two values:(0,1). Using one-hot encoder to change the y as a binary-classification"
   ]
  },
  {
   "cell_type": "code",
   "execution_count": 6,
   "id": "10e17998",
   "metadata": {},
   "outputs": [],
   "source": [
    "def onehot(y):\n",
    "    result=[]\n",
    "    for i in y:\n",
    "        res=np.zeros(10)\n",
    "        res[i-1]=1\n",
    "        result.append(res)\n",
    "    return np.array(result)"
   ]
  },
  {
   "cell_type": "code",
   "execution_count": 7,
   "id": "8091b690",
   "metadata": {},
   "outputs": [
    {
     "name": "stdout",
     "output_type": "stream",
     "text": [
      "[[0. 0. 0. ... 0. 0. 1.]\n",
      " [0. 0. 0. ... 0. 0. 1.]\n",
      " [0. 0. 0. ... 0. 0. 1.]\n",
      " ...\n",
      " [0. 0. 0. ... 0. 1. 0.]\n",
      " [0. 0. 0. ... 0. 1. 0.]\n",
      " [0. 0. 0. ... 0. 1. 0.]]\n"
     ]
    }
   ],
   "source": [
    "y=onehot(y)\n",
    "print(y[5:])"
   ]
  },
  {
   "cell_type": "markdown",
   "id": "7c29a008",
   "metadata": {},
   "source": [
    "# 序列化权重，以在minimize函数中使用，minimize中，theta的size是一维"
   ]
  },
  {
   "cell_type": "code",
   "execution_count": 8,
   "id": "5b35c520",
   "metadata": {},
   "outputs": [],
   "source": [
    "theta=sio.loadmat('ex4weights.mat')\n",
    "theta1=theta['Theta1']\n",
    "theta2=theta['Theta2']"
   ]
  },
  {
   "cell_type": "code",
   "execution_count": 9,
   "id": "d2b0186f",
   "metadata": {},
   "outputs": [],
   "source": [
    "def serialize(a,b):\n",
    "    \n",
    "    return np.append(a.flatten(),b.flatten())"
   ]
  },
  {
   "cell_type": "code",
   "execution_count": 10,
   "id": "c077f88e",
   "metadata": {},
   "outputs": [
    {
     "data": {
      "text/plain": [
       "(10285,)"
      ]
     },
     "execution_count": 10,
     "metadata": {},
     "output_type": "execute_result"
    }
   ],
   "source": [
    "theta_seria=serialize(theta1,theta2)\n",
    "theta_seria.shape"
   ]
  },
  {
   "cell_type": "code",
   "execution_count": 11,
   "id": "3e87a2d5",
   "metadata": {},
   "outputs": [],
   "source": [
    "def de_serialize(a):\n",
    "    theta1=a[:25*401].reshape(25,401)\n",
    "    theta2=a[25*401:].reshape(10,26)\n",
    "    return theta1,theta2"
   ]
  },
  {
   "cell_type": "code",
   "execution_count": 12,
   "id": "d3f1c28c",
   "metadata": {},
   "outputs": [
    {
     "data": {
      "text/plain": [
       "(25, 401)"
      ]
     },
     "execution_count": 12,
     "metadata": {},
     "output_type": "execute_result"
    }
   ],
   "source": [
    "theta1_re,theta2_re=de_serialize(theta_seria)\n",
    "theta1.shape"
   ]
  },
  {
   "cell_type": "markdown",
   "id": "3016c200",
   "metadata": {},
   "source": [
    "# feedforward"
   ]
  },
  {
   "cell_type": "code",
   "execution_count": 13,
   "id": "8ec9d925",
   "metadata": {},
   "outputs": [],
   "source": [
    "def feeedforward(theta_seria,x):\n",
    "    theta1,theta2 = de_serialize(theta_seria)\n",
    "    a1 = X\n",
    "    z2 = a1 @ theta1.T\n",
    "    a2 = sigmoid(z2)\n",
    "    a2 = np.insert(a2,0,values=1,axis=1)\n",
    "    z3 = a2 @ theta2.T\n",
    "    h = sigmoid(z3)\n",
    "    return a1,z2,a2,z3,h\n"
   ]
  },
  {
   "cell_type": "code",
   "execution_count": 14,
   "id": "930d2a5d",
   "metadata": {},
   "outputs": [],
   "source": [
    "def sigmoid(z):\n",
    "    h=1/(1+np.exp(-z))\n",
    "    return h"
   ]
  },
  {
   "cell_type": "markdown",
   "id": "0416cb12",
   "metadata": {},
   "source": [
    "# cost function"
   ]
  },
  {
   "cell_type": "code",
   "execution_count": 15,
   "id": "5ea7b5f2",
   "metadata": {},
   "outputs": [],
   "source": [
    "# non-regulizer\n",
    "def non_costFun(theta_seria,x,y):\n",
    "    a1,z2,a2,z3,h=feeedforward(theta_seria,X)\n",
    "    inner=y*np.log(h)+(1-y)*np.log(1-h)\n",
    "    cost=-np.sum(inner)/len(x)\n",
    "    return cost"
   ]
  },
  {
   "cell_type": "code",
   "execution_count": 16,
   "id": "3bce2f5c",
   "metadata": {},
   "outputs": [],
   "source": [
    "def costFun(theta_seria,x,y,lam):\n",
    "    a1,z2,a2,z3,h=feeedforward(theta_seria,X)\n",
    "    theta1,theta2=de_serialize(theta_seria)\n",
    "    reg=(np.sum(np.power(theta1[:,1:],2))+np.sum(np.power(theta2[:,1:],2)))*lam/(2*len(y))\n",
    "    cost=reg+non_costFun(theta_seria,x,y)\n",
    "    return cost\n"
   ]
  },
  {
   "cell_type": "code",
   "execution_count": 17,
   "id": "051cc0ba",
   "metadata": {},
   "outputs": [],
   "source": [
    "a1,z2,a2,z3,h=feeedforward(theta_seria,X)"
   ]
  },
  {
   "cell_type": "code",
   "execution_count": 18,
   "id": "131297af",
   "metadata": {},
   "outputs": [
    {
     "data": {
      "text/plain": [
       "0.2876291651613189"
      ]
     },
     "execution_count": 18,
     "metadata": {},
     "output_type": "execute_result"
    }
   ],
   "source": [
    "non_costFun(theta_seria,X,y)"
   ]
  },
  {
   "cell_type": "markdown",
   "id": "4a65815e",
   "metadata": {},
   "source": [
    "# back forward"
   ]
  },
  {
   "cell_type": "code",
   "execution_count": 19,
   "id": "ae6cbce5",
   "metadata": {},
   "outputs": [],
   "source": [
    "def sigmoid_deriv(x):\n",
    "    return sigmoid(x)*(1-sigmoid(x))\n"
   ]
  },
  {
   "cell_type": "code",
   "execution_count": 20,
   "id": "5c0c56a7",
   "metadata": {},
   "outputs": [],
   "source": [
    "def gradient(theta_seria,X,y):\n",
    "    theta1,theta2 = de_serialize(theta_seria)\n",
    "    a1,z2,a2,z3,h = feeedforward(theta_seria,X)\n",
    "    d3 = h - y\n",
    "    d2 = d3 @ theta2[:,1:] * sigmoid_deriv(z2)\n",
    "    D2 = (d3.T @ a2) / len(X)\n",
    "    D1 = (d2.T @ a1) / len(X)\n",
    "    return serialize(D1,D2)"
   ]
  },
  {
   "cell_type": "code",
   "execution_count": 21,
   "id": "db5ff8d2",
   "metadata": {},
   "outputs": [],
   "source": [
    "def non_back(theta_seria,X,y):\n",
    "    theta1,theta2=de_serialize(theta_seria)\n",
    "    a1,z2,a2,z3,h=feeedforward(theta_seria,X)\n",
    "    d3=h-y\n",
    "    d2=d3@theta2[:,1:]*sigmoid_deriv(z2)\n",
    "    D2=(d3.T@a2)/len(y)\n",
    "    D1=(d2.T@a1)/len(y)\n",
    "    \n",
    "    return serialize(D1,D2)"
   ]
  },
  {
   "cell_type": "code",
   "execution_count": 22,
   "id": "6ea523b3",
   "metadata": {},
   "outputs": [],
   "source": [
    "def back(theta_seria,X,y,lam):\n",
    "    theta1,theta2=de_serialize(theta_seria)\n",
    "    a1,z2,a2,z3,h=feeedforward(theta_seria,X)\n",
    "    d3=h-y\n",
    "    d2=d3@theta2[:,1:]*sigmoid_deriv(z2)\n",
    "    D2=(d3.T@a2)/len(y)\n",
    "    D1=(d2.T@a1)/len(y)\n",
    "    reg1=theta1[:,1:]*lam/len(y)\n",
    "    reg2=theta2[:,1:]*lam/len(y)\n",
    "    D1[:,1:]=D1[:,1:]+reg1\n",
    "    D2[:,1:]=D2[:,1:]+reg2\n",
    "    return serialize(D1,D2)"
   ]
  },
  {
   "cell_type": "markdown",
   "id": "6de98c0f",
   "metadata": {},
   "source": [
    "# minimize"
   ]
  },
  {
   "cell_type": "code",
   "execution_count": 40,
   "id": "8acfc484",
   "metadata": {},
   "outputs": [],
   "source": [
    "def optim(X,y):\n",
    "    init_theta=np.random.uniform(-0.5,0.5,10285)\n",
    "    res=minimize(fun=costFun,x0=init_theta,args=(X,y,10),method='TNC',jac=back,options={'maxiter':300})\n",
    "    return res"
   ]
  },
  {
   "cell_type": "code",
   "execution_count": 24,
   "id": "6336270a",
   "metadata": {},
   "outputs": [],
   "source": [
    "def nn_training(X,y):\n",
    "    \n",
    "    init_theta = np.random.uniform(-0.5,0.5,10285)\n",
    "    res = minimize(fun =non_costFun,\n",
    "                   x0 = init_theta,\n",
    "                  args = (X,y),\n",
    "                  method='TNC',\n",
    "                  jac = gradient,\n",
    "                options = {'maxiter':300})\n",
    "    \n",
    "    return res"
   ]
  },
  {
   "cell_type": "code",
   "execution_count": 41,
   "id": "963db8a9",
   "metadata": {},
   "outputs": [],
   "source": [
    "pred=optim(X,y)"
   ]
  },
  {
   "cell_type": "code",
   "execution_count": 42,
   "id": "20623c40",
   "metadata": {},
   "outputs": [],
   "source": [
    "#feedforwar\n",
    "a1_pred,z2_pred,a2_pred,z3_pred,h_pred=feeedforward(pred.x,X)"
   ]
  },
  {
   "cell_type": "code",
   "execution_count": 43,
   "id": "a4a6031d",
   "metadata": {},
   "outputs": [],
   "source": [
    "y_pred=np.argmax(h_pred,axis=1)+1"
   ]
  },
  {
   "cell_type": "code",
   "execution_count": 44,
   "id": "d7fafd78",
   "metadata": {},
   "outputs": [
    {
     "data": {
      "text/plain": [
       "0.9372"
      ]
     },
     "execution_count": 44,
     "metadata": {},
     "output_type": "execute_result"
    }
   ],
   "source": [
    "yy=data['y'].flatten()\n",
    "np.mean(y_pred==yy)"
   ]
  },
  {
   "cell_type": "code",
   "execution_count": 29,
   "id": "1e184eed",
   "metadata": {},
   "outputs": [
    {
     "data": {
      "text/plain": [
       "0.9998"
      ]
     },
     "execution_count": 29,
     "metadata": {},
     "output_type": "execute_result"
    }
   ],
   "source": [
    "res = nn_training(X,y)\n",
    "raw_y = data['y'].reshape(5000,)\n",
    "_,_,_,_,h = feeedforward(res.x,X)\n",
    "y_pred = np.argmax(h,axis=1) + 1\n",
    "np.mean(y_pred == raw_y)"
   ]
  },
  {
   "cell_type": "code",
   "execution_count": 30,
   "id": "939d94d3",
   "metadata": {},
   "outputs": [
    {
     "data": {
      "text/plain": [
       "array([11.96408607,  6.87012188, 13.99351738,  9.03179753,  8.3676327 ,\n",
       "       10.11442836,  9.87252919, 12.97652552,  8.54608398,  9.09936878])"
      ]
     },
     "execution_count": 30,
     "metadata": {},
     "output_type": "execute_result"
    }
   ],
   "source": [
    "np.random.uniform(5,15,10)"
   ]
  },
  {
   "cell_type": "code",
   "execution_count": 31,
   "id": "b40983b0",
   "metadata": {},
   "outputs": [
    {
     "data": {
      "text/plain": [
       "array([-0.25207663, -0.35277748, -0.12581215, -0.24763263, -0.32768069,\n",
       "       -0.02135064, -0.24292418, -0.24080126,  0.07261381, -0.45460114])"
      ]
     },
     "execution_count": 31,
     "metadata": {},
     "output_type": "execute_result"
    }
   ],
   "source": [
    "np.random.randn(10)*(2*0.1)-0.1"
   ]
  },
  {
   "cell_type": "code",
   "execution_count": 32,
   "id": "d6deb16e",
   "metadata": {},
   "outputs": [
    {
     "data": {
      "text/plain": [
       "array([9, 9, 9, 9, 9], dtype=int64)"
      ]
     },
     "execution_count": 32,
     "metadata": {},
     "output_type": "execute_result"
    }
   ],
   "source": [
    "y_pred[4995:]"
   ]
  },
  {
   "cell_type": "code",
   "execution_count": 33,
   "id": "7327b6ce",
   "metadata": {},
   "outputs": [
    {
     "data": {
      "text/plain": [
       "array([0., 1., 0., 0., 0., 0., 0., 0., 0., 0.])"
      ]
     },
     "execution_count": 33,
     "metadata": {},
     "output_type": "execute_result"
    }
   ],
   "source": [
    "y[1001]"
   ]
  },
  {
   "cell_type": "code",
   "execution_count": null,
   "id": "ae874b4d",
   "metadata": {},
   "outputs": [],
   "source": []
  }
 ],
 "metadata": {
  "kernelspec": {
   "display_name": "Python 3",
   "language": "python",
   "name": "python3"
  },
  "language_info": {
   "codemirror_mode": {
    "name": "ipython",
    "version": 3
   },
   "file_extension": ".py",
   "mimetype": "text/x-python",
   "name": "python",
   "nbconvert_exporter": "python",
   "pygments_lexer": "ipython3",
   "version": "3.8.8"
  }
 },
 "nbformat": 4,
 "nbformat_minor": 5
}
