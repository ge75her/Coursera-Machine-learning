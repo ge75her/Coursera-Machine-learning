{
 "cells": [
  {
   "cell_type": "markdown",
   "id": "9ecd2856",
   "metadata": {},
   "source": [
    "# linear split"
   ]
  },
  {
   "cell_type": "code",
   "execution_count": 1,
   "id": "ec246183",
   "metadata": {},
   "outputs": [],
   "source": [
    "import numpy as np\n",
    "import pandas as pd\n",
    "import matplotlib.pyplot as plt"
   ]
  },
  {
   "cell_type": "code",
   "execution_count": 2,
   "id": "9c6bda17",
   "metadata": {},
   "outputs": [
    {
     "data": {
      "text/html": [
       "<div>\n",
       "<style scoped>\n",
       "    .dataframe tbody tr th:only-of-type {\n",
       "        vertical-align: middle;\n",
       "    }\n",
       "\n",
       "    .dataframe tbody tr th {\n",
       "        vertical-align: top;\n",
       "    }\n",
       "\n",
       "    .dataframe thead th {\n",
       "        text-align: right;\n",
       "    }\n",
       "</style>\n",
       "<table border=\"1\" class=\"dataframe\">\n",
       "  <thead>\n",
       "    <tr style=\"text-align: right;\">\n",
       "      <th></th>\n",
       "      <th>exam1</th>\n",
       "      <th>exam2</th>\n",
       "      <th>accept</th>\n",
       "    </tr>\n",
       "  </thead>\n",
       "  <tbody>\n",
       "    <tr>\n",
       "      <th>0</th>\n",
       "      <td>34.623660</td>\n",
       "      <td>78.024693</td>\n",
       "      <td>0</td>\n",
       "    </tr>\n",
       "    <tr>\n",
       "      <th>1</th>\n",
       "      <td>30.286711</td>\n",
       "      <td>43.894998</td>\n",
       "      <td>0</td>\n",
       "    </tr>\n",
       "    <tr>\n",
       "      <th>2</th>\n",
       "      <td>35.847409</td>\n",
       "      <td>72.902198</td>\n",
       "      <td>0</td>\n",
       "    </tr>\n",
       "    <tr>\n",
       "      <th>3</th>\n",
       "      <td>60.182599</td>\n",
       "      <td>86.308552</td>\n",
       "      <td>1</td>\n",
       "    </tr>\n",
       "    <tr>\n",
       "      <th>4</th>\n",
       "      <td>79.032736</td>\n",
       "      <td>75.344376</td>\n",
       "      <td>1</td>\n",
       "    </tr>\n",
       "  </tbody>\n",
       "</table>\n",
       "</div>"
      ],
      "text/plain": [
       "       exam1      exam2  accept\n",
       "0  34.623660  78.024693       0\n",
       "1  30.286711  43.894998       0\n",
       "2  35.847409  72.902198       0\n",
       "3  60.182599  86.308552       1\n",
       "4  79.032736  75.344376       1"
      ]
     },
     "execution_count": 2,
     "metadata": {},
     "output_type": "execute_result"
    }
   ],
   "source": [
    "file=pd.read_csv('ex2data1.txt',names=['exam1','exam2','accept'])\n",
    "file.head()"
   ]
  },
  {
   "cell_type": "code",
   "execution_count": 3,
   "id": "fcd445e3",
   "metadata": {},
   "outputs": [
    {
     "data": {
      "image/png": "[encoded data removed]",
      "text/plain": [
       "<Figure size 432x288 with 1 Axes>"
      ]
     },
     "metadata": {
      "needs_background": "light"
     },
     "output_type": "display_data"
    }
   ],
   "source": [
    "fig1=plt.plot(figsize=(10,10))\n",
    "x10=file[file['accept']==0]['exam1']\n",
    "x20=file[file['accept']==0]['exam2']\n",
    "plt.scatter(x10,x20,c='r',label='not accept',marker='*')\n",
    "x11=file[file['accept']==1]['exam1']\n",
    "x21=file[file['accept']==1]['exam2']\n",
    "plt.scatter(x11,x21,c='b',label='accept',marker='+')\n",
    "plt.legend()\n",
    "plt.xlabel('x1')\n",
    "plt.ylabel('x2')\n",
    "plt.show()"
   ]
  },
  {
   "cell_type": "code",
   "execution_count": 4,
   "id": "3184bb52",
   "metadata": {},
   "outputs": [],
   "source": [
    "def sigmoid(z):\n",
    "    x=1/(1+np.exp(-z))\n",
    "    return x\n",
    "    "
   ]
  },
  {
   "cell_type": "code",
   "execution_count": 5,
   "id": "111f810a",
   "metadata": {},
   "outputs": [],
   "source": [
    "def costFun(x,y,theta):\n",
    "    h=sigmoid(x@theta)\n",
    "    inner=y*np.log(h)+(1-y)*np.log(1-h)\n",
    "    cost=-np.sum(inner)/len(y)\n",
    "    return cost"
   ]
  },
  {
   "cell_type": "code",
   "execution_count": 6,
   "id": "063a6195",
   "metadata": {},
   "outputs": [],
   "source": [
    "file.insert(0,'x0',1)"
   ]
  },
  {
   "cell_type": "code",
   "execution_count": 7,
   "id": "3029c08e",
   "metadata": {},
   "outputs": [],
   "source": [
    "X=file.iloc[:,0:-1]\n",
    "y=file.iloc[:,-1]\n",
    "X=X.values\n",
    "y=y.values\n",
    "y=y.reshape((100,1))"
   ]
  },
  {
   "cell_type": "code",
   "execution_count": 8,
   "id": "5427fe94",
   "metadata": {},
   "outputs": [],
   "source": [
    "theta=np.zeros((3,1))\n",
    "cost_init=costFun(X,y,theta)"
   ]
  },
  {
   "cell_type": "code",
   "execution_count": 9,
   "id": "772c5305",
   "metadata": {},
   "outputs": [],
   "source": [
    "def gradi(x,y,theta,alpha,iters):\n",
    "    costs=[]\n",
    "    for i in range(iters):\n",
    "        theta=theta-alpha*X.T@(sigmoid(X@theta)-y)/len(y)\n",
    "        cost=costFun(x,y,theta)\n",
    "        costs.append(cost)\n",
    "        if i%10000==0:\n",
    "            print('i:',i,'loss:',cost)\n",
    "    return theta,costs"
   ]
  },
  {
   "cell_type": "code",
   "execution_count": 10,
   "id": "adaf35fb",
   "metadata": {},
   "outputs": [
    {
     "name": "stdout",
     "output_type": "stream",
     "text": [
      "i: 0 loss: 0.6511194445087186\n",
      "i: 10000 loss: 0.6202331371498342\n"
     ]
    }
   ],
   "source": [
    "theta,costs=gradi(X,y,theta,0.0002,20000)"
   ]
  },
  {
   "cell_type": "code",
   "execution_count": 11,
   "id": "ce71627e",
   "metadata": {},
   "outputs": [
    {
     "name": "stdout",
     "output_type": "stream",
     "text": [
      "[[-0.27447884]\n",
      " [ 0.01233337]\n",
      " [ 0.00258652]]\n"
     ]
    }
   ],
   "source": [
    "print(theta)"
   ]
  },
  {
   "cell_type": "code",
   "execution_count": 12,
   "id": "acfb145b",
   "metadata": {},
   "outputs": [
    {
     "data": {
      "text/plain": [
       "(3, 1)"
      ]
     },
     "execution_count": 12,
     "metadata": {},
     "output_type": "execute_result"
    }
   ],
   "source": [
    "theta.shape"
   ]
  },
  {
   "cell_type": "code",
   "execution_count": 13,
   "id": "7160c987",
   "metadata": {},
   "outputs": [],
   "source": [
    "coef1=-theta[0,0]/theta[2,0]\n",
    "coef2=-theta[1,0]/theta[2,0]\n",
    "x1=np.linspace(20,100,100)\n",
    "f=coef1+coef2*x1"
   ]
  },
  {
   "cell_type": "code",
   "execution_count": 14,
   "id": "8182fda7",
   "metadata": {},
   "outputs": [
    {
     "data": {
      "image/png": "[encoded data removed]",
      "text/plain": [
       "<Figure size 432x288 with 1 Axes>"
      ]
     },
     "metadata": {
      "needs_background": "light"
     },
     "output_type": "display_data"
    }
   ],
   "source": [
    "fig2=plt.plot(figsize=(10,10))\n",
    "x10=file[file['accept']==0]['exam1']\n",
    "x20=file[file['accept']==0]['exam2']\n",
    "plt.scatter(x10,x20,c='r',label='not accept',marker='*')\n",
    "x11=file[file['accept']==1]['exam1']\n",
    "x21=file[file['accept']==1]['exam2']\n",
    "plt.scatter(x11,x21,c='b',label='accept',marker='+')\n",
    "plt.plot(x1,f,c='g')\n",
    "plt.legend()\n",
    "plt.xlabel('x1')\n",
    "plt.ylabel('x2')\n",
    "plt.show()"
   ]
  },
  {
   "cell_type": "code",
   "execution_count": 15,
   "id": "160a2021",
   "metadata": {},
   "outputs": [],
   "source": [
    "def acc(x,theta):\n",
    "    prob=sigmoid(x@theta)\n",
    "    result=[]\n",
    "    for x in prob:\n",
    "        if x>=0.5:\n",
    "            y=1\n",
    "        else:\n",
    "            y=0\n",
    "        result.append(y)\n",
    "    return result"
   ]
  },
  {
   "cell_type": "code",
   "execution_count": 16,
   "id": "827bffbf",
   "metadata": {},
   "outputs": [],
   "source": [
    "y_pred=acc(X,theta)\n",
    "y_pred=np.array(y_pred)\n",
    "y_pred=y_pred.reshape(len(y_pred),1)"
   ]
  },
  {
   "cell_type": "code",
   "execution_count": 17,
   "id": "1a3e48d9",
   "metadata": {},
   "outputs": [],
   "source": [
    "accurancy=np.mean(y_pred==y)"
   ]
  },
  {
   "cell_type": "code",
   "execution_count": 18,
   "id": "8cce9621",
   "metadata": {},
   "outputs": [
    {
     "name": "stdout",
     "output_type": "stream",
     "text": [
      "0.6\n"
     ]
    }
   ],
   "source": [
    "print(accurancy)"
   ]
  },
  {
   "cell_type": "markdown",
   "id": "b0786a03",
   "metadata": {},
   "source": [
    "# non-linear split\n",
    "\n",
    "in order to get the best boundary, have to change lambda,iterations,alpha\n",
    "\n",
    "be sure the dimension of regulizer in gradi & costfun\n",
    "\n",
    "feature map,best chioce=6"
   ]
  },
  {
   "cell_type": "code",
   "execution_count": 1,
   "id": "51f81453",
   "metadata": {},
   "outputs": [],
   "source": [
    "import numpy as np\n",
    "import pandas as pd\n",
    "import matplotlib.pyplot as plt"
   ]
  },
  {
   "cell_type": "code",
   "execution_count": 2,
   "id": "da06febf",
   "metadata": {},
   "outputs": [
    {
     "data": {
      "text/html": [
       "<div>\n",
       "<style scoped>\n",
       "    .dataframe tbody tr th:only-of-type {\n",
       "        vertical-align: middle;\n",
       "    }\n",
       "\n",
       "    .dataframe tbody tr th {\n",
       "        vertical-align: top;\n",
       "    }\n",
       "\n",
       "    .dataframe thead th {\n",
       "        text-align: right;\n",
       "    }\n",
       "</style>\n",
       "<table border=\"1\" class=\"dataframe\">\n",
       "  <thead>\n",
       "    <tr style=\"text-align: right;\">\n",
       "      <th></th>\n",
       "      <th>test1</th>\n",
       "      <th>test2</th>\n",
       "      <th>accept</th>\n",
       "    </tr>\n",
       "  </thead>\n",
       "  <tbody>\n",
       "    <tr>\n",
       "      <th>0</th>\n",
       "      <td>0.051267</td>\n",
       "      <td>0.69956</td>\n",
       "      <td>1</td>\n",
       "    </tr>\n",
       "    <tr>\n",
       "      <th>1</th>\n",
       "      <td>-0.092742</td>\n",
       "      <td>0.68494</td>\n",
       "      <td>1</td>\n",
       "    </tr>\n",
       "    <tr>\n",
       "      <th>2</th>\n",
       "      <td>-0.213710</td>\n",
       "      <td>0.69225</td>\n",
       "      <td>1</td>\n",
       "    </tr>\n",
       "    <tr>\n",
       "      <th>3</th>\n",
       "      <td>-0.375000</td>\n",
       "      <td>0.50219</td>\n",
       "      <td>1</td>\n",
       "    </tr>\n",
       "    <tr>\n",
       "      <th>4</th>\n",
       "      <td>-0.513250</td>\n",
       "      <td>0.46564</td>\n",
       "      <td>1</td>\n",
       "    </tr>\n",
       "  </tbody>\n",
       "</table>\n",
       "</div>"
      ],
      "text/plain": [
       "      test1    test2  accept\n",
       "0  0.051267  0.69956       1\n",
       "1 -0.092742  0.68494       1\n",
       "2 -0.213710  0.69225       1\n",
       "3 -0.375000  0.50219       1\n",
       "4 -0.513250  0.46564       1"
      ]
     },
     "execution_count": 2,
     "metadata": {},
     "output_type": "execute_result"
    }
   ],
   "source": [
    "data=pd.read_csv('ex2data2.txt',names=['test1','test2','accept'])\n",
    "data.head()"
   ]
  },
  {
   "cell_type": "code",
   "execution_count": 3,
   "id": "b86aafc2",
   "metadata": {},
   "outputs": [],
   "source": [
    "xn10=data[data['accept']==0]['test1']\n",
    "xn20=data[data['accept']==0]['test2']\n",
    "xn11=data[data['accept']==1]['test1']\n",
    "xn21=data[data['accept']==1]['test2']"
   ]
  },
  {
   "cell_type": "code",
   "execution_count": 4,
   "id": "dcc03527",
   "metadata": {},
   "outputs": [
    {
     "data": {
      "image/png": "[encoded data removed]",
      "text/plain": [
       "<Figure size 360x360 with 1 Axes>"
      ]
     },
     "metadata": {
      "needs_background": "light"
     },
     "output_type": "display_data"
    }
   ],
   "source": [
    "fig3=plt.figure(figsize=(5,5))\n",
    "plt.scatter(xn10,xn20,c='r',marker='+',label='not accept')\n",
    "plt.scatter(xn11,xn21,c='b',marker='*',label='accept')\n",
    "plt.xlabel('x1')\n",
    "plt.ylabel('x2')\n",
    "plt.legend()\n",
    "plt.show()"
   ]
  },
  {
   "cell_type": "code",
   "execution_count": 5,
   "id": "bcdefa30",
   "metadata": {},
   "outputs": [],
   "source": [
    "#feature map\n",
    "def feature_map(x1,x2,power):\n",
    "    data=dict()\n",
    "    for i in range(power+1):\n",
    "        for j in range(i+1):\n",
    "            data['F{}{}'.format(i-j,j)]=np.power(x1,i-j)*np.power(x2,j)\n",
    "            file=pd.DataFrame(data)\n",
    "    return file\n",
    "    "
   ]
  },
  {
   "cell_type": "code",
   "execution_count": 6,
   "id": "ae3382a9",
   "metadata": {},
   "outputs": [],
   "source": [
    "file =feature_map(data['test1'],data['test2'],6)"
   ]
  },
  {
   "cell_type": "code",
   "execution_count": 7,
   "id": "0162bf51",
   "metadata": {},
   "outputs": [],
   "source": [
    "def sigmoid(z):\n",
    "    g=1/(1+np.exp(-z))\n",
    "    return g"
   ]
  },
  {
   "cell_type": "code",
   "execution_count": 8,
   "id": "2fc3caec",
   "metadata": {},
   "outputs": [],
   "source": [
    "def costFun(x,y,theta,lam):\n",
    "    h=sigmoid(x@theta)\n",
    "    inner=y*np.log(h)+(1-y)*np.log(1-h)\n",
    "    reg=np.sum(np.power(theta[1:],2))*lam/(2*len(y))\n",
    "    cost=-np.sum(inner)/len(y)+reg\n",
    "    return cost"
   ]
  },
  {
   "cell_type": "code",
   "execution_count": 9,
   "id": "7c7be0e6",
   "metadata": {},
   "outputs": [],
   "source": [
    "#X=file.iloc[:,0:-1]\n",
    "y=data.iloc[:,-1]"
   ]
  },
  {
   "cell_type": "code",
   "execution_count": 10,
   "id": "278b79b9",
   "metadata": {},
   "outputs": [],
   "source": [
    "X=file.values\n",
    "y=y.values\n",
    "y=y.reshape((118,1))"
   ]
  },
  {
   "cell_type": "code",
   "execution_count": 11,
   "id": "7fb95191",
   "metadata": {},
   "outputs": [
    {
     "data": {
      "text/plain": [
       "(118, 28)"
      ]
     },
     "execution_count": 11,
     "metadata": {},
     "output_type": "execute_result"
    }
   ],
   "source": [
    "X.shape"
   ]
  },
  {
   "cell_type": "code",
   "execution_count": 12,
   "id": "3783aa19",
   "metadata": {},
   "outputs": [],
   "source": [
    "theta=np.zeros((28,1))\n",
    "cost_init=costFun(X,y,theta,1)"
   ]
  },
  {
   "cell_type": "code",
   "execution_count": 13,
   "id": "b3e89d98",
   "metadata": {},
   "outputs": [],
   "source": [
    "def gradi(x,y,theta,alpha,iters,lam):\n",
    "    costs=[]\n",
    "    for i in range(iters):\n",
    "        reg=theta[1:]*(lam/(len(y)))\n",
    "        reg=np.insert(reg,0,values=0,axis=0)\n",
    "        #theta = theta - (X.T@(sigmoid(X@theta) - y)) * alpha / len(X) -reg\n",
    "        theta=theta-alpha*x.T@(sigmoid(x@theta)-y)/len(y)-reg\n",
    "        cost=costFun(x,y,theta,lam)\n",
    "        costs.append(cost)\n",
    "        if i%50000==0:\n",
    "            print('i:',i,'loss:',cost)\n",
    "    return theta,costs"
   ]
  },
  {
   "cell_type": "code",
   "execution_count": 14,
   "id": "126b0e69",
   "metadata": {},
   "outputs": [
    {
     "name": "stdout",
     "output_type": "stream",
     "text": [
      "i: 0 loss: 0.6931343808043247\n",
      "i: 50000 loss: 0.6803869193707022\n",
      "i: 100000 loss: 0.6803869118119377\n",
      "i: 150000 loss: 0.6803869118118436\n"
     ]
    }
   ],
   "source": [
    "theta,costs=gradi(X,y,theta,0.001,200000,0.1)"
   ]
  },
  {
   "cell_type": "code",
   "execution_count": 15,
   "id": "049d820a",
   "metadata": {},
   "outputs": [],
   "source": [
    "def pred(x,theta):\n",
    "    prob=sigmoid(x@theta)\n",
    "    ms=[]\n",
    "    for i in prob:\n",
    "        if i>=0.5:\n",
    "            m=1\n",
    "        else:\n",
    "            m=0\n",
    "        ms.append(m)\n",
    "    return ms"
   ]
  },
  {
   "cell_type": "code",
   "execution_count": 16,
   "id": "96170045",
   "metadata": {},
   "outputs": [
    {
     "name": "stdout",
     "output_type": "stream",
     "text": [
      "[0, 0, 0, 1, 1, 1, 1, 1, 1, 1, 0, 0, 0, 0, 0, 0, 0, 0, 0, 0, 0, 1, 1, 1, 1, 0, 0, 0, 1, 0, 0, 0, 0, 1, 1, 1, 1, 1, 1, 1, 1, 0, 0, 0, 0, 0, 0, 0, 0, 0, 0, 1, 1, 1, 1, 1, 1, 1, 0, 0, 0, 0, 0, 0, 0, 0, 0, 0, 0, 0, 0, 0, 0, 0, 0, 0, 0, 0, 0, 0, 1, 1, 1, 1, 0, 1, 0, 0, 0, 0, 0, 0, 0, 0, 0, 0, 0, 0, 0, 0, 0, 0, 1, 1, 1, 1, 1, 1, 1, 1, 1, 0, 0, 0, 1, 0, 0, 0]\n"
     ]
    }
   ],
   "source": [
    "y_pred=pred(X,theta)\n",
    "print(y_pred)"
   ]
  },
  {
   "cell_type": "code",
   "execution_count": 17,
   "id": "11d178b1",
   "metadata": {},
   "outputs": [
    {
     "data": {
      "text/plain": [
       "array([[0.49429017],\n",
       "       [0.49616197],\n",
       "       [0.49616352],\n",
       "       [0.50230186],\n",
       "       [0.50182346],\n",
       "       [0.50389743],\n",
       "       [0.50513327],\n",
       "       [0.5048094 ],\n",
       "       [0.50339663],\n",
       "       [0.50165899],\n",
       "       [0.49784659],\n",
       "       [0.49479857],\n",
       "       [0.49263615],\n",
       "       [0.48726179],\n",
       "       [0.49148269],\n",
       "       [0.49532584],\n",
       "       [0.49940123],\n",
       "       [0.48696266],\n",
       "       [0.49571094],\n",
       "       [0.4976772 ],\n",
       "       [0.49722062],\n",
       "       [0.50164512],\n",
       "       [0.50284306],\n",
       "       [0.50358486],\n",
       "       [0.50373657],\n",
       "       [0.49989747],\n",
       "       [0.49643576],\n",
       "       [0.48860614],\n",
       "       [0.50154315],\n",
       "       [0.4907003 ],\n",
       "       [0.47078308],\n",
       "       [0.48886098],\n",
       "       [0.49814846],\n",
       "       [0.50320827],\n",
       "       [0.50481854],\n",
       "       [0.50563564],\n",
       "       [0.50491902],\n",
       "       [0.50509124],\n",
       "       [0.50469918],\n",
       "       [0.50181387],\n",
       "       [0.5022159 ],\n",
       "       [0.49854099],\n",
       "       [0.49263456],\n",
       "       [0.49939998],\n",
       "       [0.49281048],\n",
       "       [0.49420595],\n",
       "       [0.48277224],\n",
       "       [0.4989759 ],\n",
       "       [0.48810792],\n",
       "       [0.49028059],\n",
       "       [0.49865907],\n",
       "       [0.50378275],\n",
       "       [0.50118382],\n",
       "       [0.50486257],\n",
       "       [0.50583607],\n",
       "       [0.50476621],\n",
       "       [0.5057521 ],\n",
       "       [0.50468053],\n",
       "       [0.47060171],\n",
       "       [0.48642521],\n",
       "       [0.49439397],\n",
       "       [0.47991575],\n",
       "       [0.47672997],\n",
       "       [0.48496218],\n",
       "       [0.47787169],\n",
       "       [0.46429065],\n",
       "       [0.47795437],\n",
       "       [0.46356262],\n",
       "       [0.46732178],\n",
       "       [0.47658754],\n",
       "       [0.4727625 ],\n",
       "       [0.47704662],\n",
       "       [0.47778539],\n",
       "       [0.48027934],\n",
       "       [0.48850775],\n",
       "       [0.49415966],\n",
       "       [0.49765947],\n",
       "       [0.49826626],\n",
       "       [0.495361  ],\n",
       "       [0.49765926],\n",
       "       [0.50067442],\n",
       "       [0.50325625],\n",
       "       [0.50252812],\n",
       "       [0.50391084],\n",
       "       [0.49809702],\n",
       "       [0.50078197],\n",
       "       [0.49876481],\n",
       "       [0.4915107 ],\n",
       "       [0.49491512],\n",
       "       [0.47664445],\n",
       "       [0.47736125],\n",
       "       [0.49343669],\n",
       "       [0.48838919],\n",
       "       [0.47472662],\n",
       "       [0.4654253 ],\n",
       "       [0.44054229],\n",
       "       [0.43871026],\n",
       "       [0.47815741],\n",
       "       [0.45896529],\n",
       "       [0.46474514],\n",
       "       [0.47874876],\n",
       "       [0.44407318],\n",
       "       [0.50159151],\n",
       "       [0.50053233],\n",
       "       [0.50398408],\n",
       "       [0.50268947],\n",
       "       [0.50398387],\n",
       "       [0.5054551 ],\n",
       "       [0.50230273],\n",
       "       [0.50050004],\n",
       "       [0.50006158],\n",
       "       [0.49962752],\n",
       "       [0.49585442],\n",
       "       [0.49625198],\n",
       "       [0.50011782],\n",
       "       [0.46374379],\n",
       "       [0.46319558],\n",
       "       [0.4932391 ]])"
      ]
     },
     "execution_count": 17,
     "metadata": {},
     "output_type": "execute_result"
    }
   ],
   "source": [
    "sigmoid(X@theta)"
   ]
  },
  {
   "cell_type": "code",
   "execution_count": 18,
   "id": "04edb80b",
   "metadata": {},
   "outputs": [
    {
     "data": {
      "image/png": "[encoded data removed]",
      "text/plain": [
       "<Figure size 432x288 with 1 Axes>"
      ]
     },
     "metadata": {
      "needs_background": "light"
     },
     "output_type": "display_data"
    }
   ],
   "source": [
    "x = np.linspace(-1.2,1.2,200)\n",
    "xx,yy = np.meshgrid(x,x)\n",
    "z = feature_map(xx.ravel(),yy.ravel(),6).values\n",
    "\n",
    "zz = z @ theta\n",
    "zz = zz.reshape(xx.shape)\n",
    "\n",
    "fig,ax = plt.subplots()\n",
    "ax.scatter(data[data['accept']==0]['test1'],data[data['accept']==0]['test2'],c='r',marker='x',label='y=0')\n",
    "ax.scatter(data[data['accept']==1]['test1'],data[data['accept']==1]['test2'],c='b',marker='o',label='y=1')\n",
    "ax.legend()\n",
    "ax.set(xlabel='Test1',\n",
    "          ylabel='Test2')\n",
    "\n",
    "plt.contour(xx,yy,zz,0)\n",
    "plt.show()\n"
   ]
  },
  {
   "cell_type": "code",
   "execution_count": null,
   "id": "1c92748a",
   "metadata": {},
   "outputs": [],
   "source": []
  }
 ],
 "metadata": {
  "kernelspec": {
   "display_name": "Python 3",
   "language": "python",
   "name": "python3"
  },
  "language_info": {
   "codemirror_mode": {
    "name": "ipython",
    "version": 3
   },
   "file_extension": ".py",
   "mimetype": "text/x-python",
   "name": "python",
   "nbconvert_exporter": "python",
   "pygments_lexer": "ipython3",
   "version": "3.8.8"
  }
 },
 "nbformat": 4,
 "nbformat_minor": 5
}
