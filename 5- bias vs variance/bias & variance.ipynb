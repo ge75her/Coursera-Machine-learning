{
 "cells": [
  {
   "cell_type": "code",
   "execution_count": 1,
   "id": "0d0457ed",
   "metadata": {},
   "outputs": [],
   "source": [
    "import scipy.io as sio\n",
    "import numpy as np\n",
    "from scipy.optimize import minimize \n",
    "import matplotlib.pyplot as plt"
   ]
  },
  {
   "cell_type": "code",
   "execution_count": 2,
   "id": "7d2bd69e",
   "metadata": {},
   "outputs": [
    {
     "data": {
      "text/plain": [
       "dict_keys(['__header__', '__version__', '__globals__', 'X', 'y', 'Xtest', 'ytest', 'Xval', 'yval'])"
      ]
     },
     "execution_count": 2,
     "metadata": {},
     "output_type": "execute_result"
    }
   ],
   "source": [
    "data=sio.loadmat('ex5data1')\n",
    "data.keys()"
   ]
  },
  {
   "cell_type": "code",
   "execution_count": 3,
   "id": "26ff352a",
   "metadata": {},
   "outputs": [],
   "source": [
    "X=data['X']\n",
    "y=data['y']\n",
    "Xtest=data['Xtest']\n",
    "ytest=data['ytest']\n",
    "Xval=data['Xval']\n",
    "yval=data['yval']"
   ]
  },
  {
   "cell_type": "code",
   "execution_count": 4,
   "id": "dc21e79b",
   "metadata": {},
   "outputs": [],
   "source": [
    "#cost function\n",
    "def costFun(theta,X,y,lam):\n",
    "    cost=np.sum(np.power((X@theta-y.flatten()),2))+theta[1:]@theta[1:]*lam\n",
    "    return cost/(2*len(y))"
   ]
  },
  {
   "cell_type": "code",
   "execution_count": 5,
   "id": "a157327f",
   "metadata": {},
   "outputs": [],
   "source": [
    "def gradi(theta,X,y,lam):\n",
    "    grad=(X@theta-y.flatten())@X+theta[1:]*lam\n",
    "    return grad/len(y)"
   ]
  },
  {
   "cell_type": "code",
   "execution_count": 7,
   "id": "1f8528ae",
   "metadata": {},
   "outputs": [
    {
     "name": "stdout",
     "output_type": "stream",
     "text": [
      "(12, 2) (12,)\n"
     ]
    }
   ],
   "source": [
    "X=np.insert(X,0,1,1)\n",
    "y=y.flatten()\n",
    "print(X.shape,y.shape)"
   ]
  },
  {
   "cell_type": "code",
   "execution_count": 9,
   "id": "be002839",
   "metadata": {},
   "outputs": [],
   "source": [
    "theta_ini=np.ones(X.shape[1])"
   ]
  },
  {
   "cell_type": "code",
   "execution_count": 11,
   "id": "98719b48",
   "metadata": {},
   "outputs": [
    {
     "data": {
      "text/plain": [
       "303.9931922202643"
      ]
     },
     "execution_count": 11,
     "metadata": {},
     "output_type": "execute_result"
    }
   ],
   "source": [
    "costFun(theta_ini,X,y,lam=1)"
   ]
  },
  {
   "cell_type": "code",
   "execution_count": 15,
   "id": "10177193",
   "metadata": {},
   "outputs": [],
   "source": [
    "def optim(X,y):\n",
    "    res=minimize(fun=costFun,x0=theta_ini,args=(X,y,10),jac=gradi,method='TNC',options={'maxiter':300})\n",
    "    return res.x"
   ]
  },
  {
   "cell_type": "code",
   "execution_count": 16,
   "id": "ad6dad66",
   "metadata": {},
   "outputs": [],
   "source": [
    "result=optim(X,y)"
   ]
  },
  {
   "cell_type": "code",
   "execution_count": 17,
   "id": "d55bcef3",
   "metadata": {},
   "outputs": [],
   "source": [
    "pred=X@result"
   ]
  },
  {
   "cell_type": "code",
   "execution_count": 24,
   "id": "4dd3d042",
   "metadata": {},
   "outputs": [
    {
     "data": {
      "text/plain": [
       "[<matplotlib.lines.Line2D at 0x1b674237c10>]"
      ]
     },
     "execution_count": 24,
     "metadata": {},
     "output_type": "execute_result"
    },
    {
     "data": {
      "image/png": "[encoded data removed]",
      "text/plain": [
       "<Figure size 432x288 with 1 Axes>"
      ]
     },
     "metadata": {
      "needs_background": "light"
     },
     "output_type": "display_data"
    }
   ],
   "source": [
    "plt.scatter(X[:,1],y)\n",
    "plt.plot(X[:,1],pred)"
   ]
  },
  {
   "cell_type": "code",
   "execution_count": null,
   "id": "b6937e4e",
   "metadata": {},
   "outputs": [],
   "source": []
  }
 ],
 "metadata": {
  "kernelspec": {
   "display_name": "Python 3",
   "language": "python",
   "name": "python3"
  },
  "language_info": {
   "codemirror_mode": {
    "name": "ipython",
    "version": 3
   },
   "file_extension": ".py",
   "mimetype": "text/x-python",
   "name": "python",
   "nbconvert_exporter": "python",
   "pygments_lexer": "ipython3",
   "version": "3.8.8"
  }
 },
 "nbformat": 4,
 "nbformat_minor": 5
}
