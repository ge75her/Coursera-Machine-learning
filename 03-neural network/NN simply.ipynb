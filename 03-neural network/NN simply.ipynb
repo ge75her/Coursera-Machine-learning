{
 "cells": [
  {
   "cell_type": "code",
   "execution_count": 1,
   "id": "bea7699d",
   "metadata": {},
   "outputs": [],
   "source": [
    "import numpy as np\n",
    "import scipy.io as sio"
   ]
  },
  {
   "cell_type": "markdown",
   "id": "9a06ad78",
   "metadata": {},
   "source": [
    "# build a neural network\n",
    "input: (m,n+1) hidden:(n+1,s) (s,k) output:(m,k)"
   ]
  },
  {
   "cell_type": "code",
   "execution_count": 2,
   "id": "456b95d3",
   "metadata": {},
   "outputs": [],
   "source": [
    "data=sio.loadmat('ex3data1.mat')\n",
    "raw_x=data['X']\n",
    "raw_y=data['y']"
   ]
  },
  {
   "cell_type": "code",
   "execution_count": 6,
   "id": "062afd8f",
   "metadata": {},
   "outputs": [],
   "source": [
    "X=np.insert(raw_x,0,1,axis=1)\n",
    "y=raw_y.reshape((5000,))"
   ]
  },
  {
   "cell_type": "code",
   "execution_count": 7,
   "id": "e8420b34",
   "metadata": {},
   "outputs": [
    {
     "name": "stdout",
     "output_type": "stream",
     "text": [
      "(5000, 401) (5000,)\n"
     ]
    }
   ],
   "source": [
    "print(X.shape,y.shape)"
   ]
  },
  {
   "cell_type": "code",
   "execution_count": 10,
   "id": "e7beca8f",
   "metadata": {},
   "outputs": [],
   "source": [
    "theta=sio.loadmat('ex3weights.mat')\n",
    "theta1=theta['Theta1']\n",
    "theta2=theta['Theta2']"
   ]
  },
  {
   "cell_type": "code",
   "execution_count": 11,
   "id": "64a26f82",
   "metadata": {},
   "outputs": [],
   "source": [
    "def sigmoid(z):\n",
    "    h=1/(1+np.exp(-z))\n",
    "    return h"
   ]
  },
  {
   "cell_type": "code",
   "execution_count": 18,
   "id": "0a58b799",
   "metadata": {},
   "outputs": [],
   "source": [
    "a1=X\n",
    "z2=a1@theta1.T\n",
    "a2=sigmoid(z2)\n",
    "a2=np.insert(a2,0,1,axis=1)\n",
    "z3=a2@theta2.T\n",
    "a3=sigmoid(z3)"
   ]
  },
  {
   "cell_type": "code",
   "execution_count": 19,
   "id": "a148d04a",
   "metadata": {},
   "outputs": [],
   "source": [
    "y_pred=np.argmax(a3,axis=1)\n",
    "y_pred=y_pred+1"
   ]
  },
  {
   "cell_type": "code",
   "execution_count": 20,
   "id": "10e9a797",
   "metadata": {},
   "outputs": [],
   "source": [
    "acc=np.mean(y_pred==y)"
   ]
  },
  {
   "cell_type": "code",
   "execution_count": 21,
   "id": "911f3cac",
   "metadata": {},
   "outputs": [
    {
     "name": "stdout",
     "output_type": "stream",
     "text": [
      "0.9752\n"
     ]
    }
   ],
   "source": [
    "print(acc)"
   ]
  },
  {
   "cell_type": "code",
   "execution_count": null,
   "id": "7b41e744",
   "metadata": {},
   "outputs": [],
   "source": []
  }
 ],
 "metadata": {
  "kernelspec": {
   "display_name": "Python 3",
   "language": "python",
   "name": "python3"
  },
  "language_info": {
   "codemirror_mode": {
    "name": "ipython",
    "version": 3
   },
   "file_extension": ".py",
   "mimetype": "text/x-python",
   "name": "python",
   "nbconvert_exporter": "python",
   "pygments_lexer": "ipython3",
   "version": "3.8.8"
  }
 },
 "nbformat": 4,
 "nbformat_minor": 5
}
