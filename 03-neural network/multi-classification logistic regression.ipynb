{
 "cells": [
  {
   "cell_type": "code",
   "execution_count": 1,
   "id": "57fc5929",
   "metadata": {},
   "outputs": [],
   "source": [
    "import numpy as np\n",
    "import matplotlib.pyplot as plt\n",
    "from scipy.optimize import minimize \n",
    "import scipy.io as sio"
   ]
  },
  {
   "cell_type": "code",
   "execution_count": 2,
   "id": "c59573b9",
   "metadata": {},
   "outputs": [],
   "source": [
    "data=sio.loadmat('ex3data1.mat')"
   ]
  },
  {
   "cell_type": "code",
   "execution_count": 3,
   "id": "b653238d",
   "metadata": {},
   "outputs": [],
   "source": [
    "X=data['X']\n",
    "y=data['y']"
   ]
  },
  {
   "cell_type": "code",
   "execution_count": 4,
   "id": "f21366af",
   "metadata": {},
   "outputs": [
    {
     "data": {
      "image/png": "[encoded data removed]",
      "text/plain": [
       "<Figure size 72x72 with 1 Axes>"
      ]
     },
     "metadata": {
      "needs_background": "light"
     },
     "output_type": "display_data"
    }
   ],
   "source": [
    "fig=plt.figure(figsize=(1,1))\n",
    "plt.imshow(X[3450].reshape(20,20).T)\n",
    "plt.show()"
   ]
  },
  {
   "cell_type": "code",
   "execution_count": 5,
   "id": "d4e2d94a",
   "metadata": {},
   "outputs": [],
   "source": [
    "X=np.insert(X,0,values=1,axis=1)"
   ]
  },
  {
   "cell_type": "code",
   "execution_count": 6,
   "id": "b4fde001",
   "metadata": {},
   "outputs": [],
   "source": [
    "y=y.flatten()"
   ]
  },
  {
   "cell_type": "code",
   "execution_count": 7,
   "id": "4676c6fc",
   "metadata": {},
   "outputs": [],
   "source": [
    "def sigmoid(z):\n",
    "    h=1/(1+np.exp(-z))\n",
    "    return h"
   ]
  },
  {
   "cell_type": "code",
   "execution_count": 8,
   "id": "072421cd",
   "metadata": {},
   "outputs": [],
   "source": [
    "def costFun(theta,x,y,lam):\n",
    "    reg=theta[1:]@theta[1:]*lam/(2*len(y))\n",
    "    h=sigmoid(x@theta)\n",
    "    inner=y*np.log(h)+(1-y)*np.log(1-h)\n",
    "    cost=-np.sum(inner)/len(y)+reg\n",
    "    return cost"
   ]
  },
  {
   "cell_type": "code",
   "execution_count": 9,
   "id": "7f056e00",
   "metadata": {},
   "outputs": [],
   "source": [
    "#theta=array[[],[],[],[]]\n",
    "#reg=array([],[],[])\n",
    "def gradi(theta,x,y,lam):\n",
    "    reg=lam*theta[1:]/len(y)\n",
    "    reg=np.insert(reg,0,values=0,axis=0)\n",
    "    grad=x.T@(sigmoid(x@theta)-y)/len(y)\n",
    "    return grad+reg"
   ]
  },
  {
   "cell_type": "code",
   "execution_count": 10,
   "id": "afd33868",
   "metadata": {},
   "outputs": [],
   "source": [
    "lam=1\n",
    "#theta=np.zeros((len(X[1]),)) # scipy.minimize接受的数据格式为一维的特征向量\n",
    "#best=minimize(costFun,theta,args=(X,y,lam),method='TNC',jac=gradi)"
   ]
  },
  {
   "cell_type": "code",
   "execution_count": 11,
   "id": "d0cb6a04",
   "metadata": {},
   "outputs": [],
   "source": [
    "#k:0-9共十个classes\n",
    "#size(theta_all)=(K,n):每一列是一个特征的分类预测所得的概率结果\n",
    "theta_all=np.zeros((10,len(X[1])))\n",
    "for i in range(1,11):\n",
    "    theta_i=np.zeros((len(X[1]),))\n",
    "    best=minimize(costFun,theta_i,args=(X,y==i,lam),method='TNC',jac=gradi)\n",
    "    theta_all[i-1,:]=best.x #solution value\n",
    "    "
   ]
  },
  {
   "cell_type": "code",
   "execution_count": 12,
   "id": "b22cdfea",
   "metadata": {},
   "outputs": [
    {
     "name": "stdout",
     "output_type": "stream",
     "text": [
      "[[-2.38301230e+00  0.00000000e+00  0.00000000e+00 ...  1.30434175e-03\n",
      "  -7.40003732e-10  0.00000000e+00]\n",
      " [-3.18588120e+00  0.00000000e+00  0.00000000e+00 ...  4.45858778e-03\n",
      "  -5.08315413e-04  0.00000000e+00]\n",
      " [-4.79483718e+00  0.00000000e+00  0.00000000e+00 ... -2.86628040e-05\n",
      "  -2.46838905e-07  0.00000000e+00]\n",
      " ...\n",
      " [-7.98900972e+00  0.00000000e+00  0.00000000e+00 ... -8.94542182e-05\n",
      "   7.21045847e-06  0.00000000e+00]\n",
      " [-4.57182010e+00  0.00000000e+00  0.00000000e+00 ... -1.33622521e-03\n",
      "   9.98633700e-05  0.00000000e+00]\n",
      " [-5.40510945e+00  0.00000000e+00  0.00000000e+00 ... -1.16565605e-04\n",
      "   7.87250688e-06  0.00000000e+00]]\n"
     ]
    }
   ],
   "source": [
    "print(theta_all)"
   ]
  },
  {
   "cell_type": "code",
   "execution_count": 30,
   "id": "54f28c4e",
   "metadata": {},
   "outputs": [
    {
     "name": "stdout",
     "output_type": "stream",
     "text": [
      "[10 10 10 ...  9  9  7]\n",
      "[10 10 10 10 10]\n"
     ]
    }
   ],
   "source": [
    "prob=sigmoid(X@theta_all.T)\n",
    "choose=np.argmax(prob,axis=1)#每一行中的最大数，返回列的坐标index\n",
    "print(choose+1)\n",
    "print(y[:5])"
   ]
  },
  {
   "cell_type": "code",
   "execution_count": 31,
   "id": "113a5666",
   "metadata": {},
   "outputs": [
    {
     "data": {
      "text/plain": [
       "0.9446"
      ]
     },
     "execution_count": 31,
     "metadata": {},
     "output_type": "execute_result"
    }
   ],
   "source": [
    "index=choose+1# index[0-9], corresponding number:[1-10]\n",
    "np.mean(index==y)"
   ]
  },
  {
   "cell_type": "code",
   "execution_count": 32,
   "id": "7927f58d",
   "metadata": {},
   "outputs": [],
   "source": [
    "m=np.array([[2,33],[3,2],[4,6],[5,4]])"
   ]
  },
  {
   "cell_type": "code",
   "execution_count": 33,
   "id": "9d2d9027",
   "metadata": {},
   "outputs": [
    {
     "data": {
      "text/plain": [
       "array([[ 2, 33],\n",
       "       [ 3,  2],\n",
       "       [ 4,  6],\n",
       "       [ 5,  4]])"
      ]
     },
     "execution_count": 33,
     "metadata": {},
     "output_type": "execute_result"
    }
   ],
   "source": [
    "m"
   ]
  },
  {
   "cell_type": "code",
   "execution_count": 34,
   "id": "308532d2",
   "metadata": {},
   "outputs": [
    {
     "data": {
      "text/plain": [
       "array([1, 0, 1, 0], dtype=int64)"
      ]
     },
     "execution_count": 34,
     "metadata": {},
     "output_type": "execute_result"
    }
   ],
   "source": [
    "np.argmax(m,axis=1)"
   ]
  },
  {
   "cell_type": "code",
   "execution_count": 36,
   "id": "266deccb",
   "metadata": {},
   "outputs": [
    {
     "data": {
      "text/plain": [
       "array([ True,  True,  True, ..., False, False, False])"
      ]
     },
     "execution_count": 36,
     "metadata": {},
     "output_type": "execute_result"
    }
   ],
   "source": [
    "y==10"
   ]
  },
  {
   "cell_type": "code",
   "execution_count": null,
   "id": "ac099274",
   "metadata": {},
   "outputs": [],
   "source": []
  }
 ],
 "metadata": {
  "kernelspec": {
   "display_name": "Python 3",
   "language": "python",
   "name": "python3"
  },
  "language_info": {
   "codemirror_mode": {
    "name": "ipython",
    "version": 3
   },
   "file_extension": ".py",
   "mimetype": "text/x-python",
   "name": "python",
   "nbconvert_exporter": "python",
   "pygments_lexer": "ipython3",
   "version": "3.8.8"
  }
 },
 "nbformat": 4,
 "nbformat_minor": 5
}
